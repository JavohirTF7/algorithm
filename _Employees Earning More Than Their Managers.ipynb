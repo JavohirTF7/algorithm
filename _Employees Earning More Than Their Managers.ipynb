{
 "cells": [
  {
   "cell_type": "markdown",
   "id": "0b5c5b64",
   "metadata": {},
   "source": [
    "### Table: Employee\n",
    "\n",
    "| Column Name | Type    |\n",
    "|--------------|---------|\n",
    "| id           | int     |\n",
    "| name         | varchar |\n",
    "| salary       | int     |\n",
    "| managerId    | int     |\n",
    "\n",
    "**Description:**\n",
    "- `id` is the primary key (unique for each employee).  \n",
    "- Each row shows an employee’s ID, name, salary, and their manager’s ID.\n",
    "\n",
    "---\n",
    "\n",
    "### Task\n",
    "Write a solution to find the **employees who earn more than their managers**.  \n",
    "Return the result table in any order.\n",
    "\n",
    "---\n",
    "\n",
    "### Example 1\n",
    "\n",
    "**Input:**\n",
    "\n",
    "#### Employee table\n",
    "| id | name  | salary | managerId |\n",
    "|----|--------|---------|-----------|\n",
    "| 1  | Joe    | 70000   | 3         |\n",
    "| 2  | Henry  | 80000   | 4         |\n",
    "| 3  | Sam    | 60000   | NULL      |\n",
    "| 4  | Max    | 90000   | NULL      |\n",
    "\n",
    "---\n",
    "\n",
    "**Output:**\n",
    "\n",
    "| Employee |\n",
    "|-----------|\n",
    "| Joe       |\n",
    "\n",
    "---\n",
    "\n",
    "**Explanation:**\n",
    "- Joe’s manager is Sam (managerId = 3).  \n",
    "- Joe’s salary (70000) is greater than Sam’s (60000).  \n",
    "- Therefore, Joe is the only employee who earns more than his manager.\n"
   ]
  },
  {
   "cell_type": "code",
   "execution_count": 6,
   "id": "bcb0b771",
   "metadata": {},
   "outputs": [],
   "source": [
    "import pandas as pd"
   ]
  },
  {
   "cell_type": "code",
   "execution_count": 3,
   "id": "aa1f49db",
   "metadata": {},
   "outputs": [
    {
     "data": {
      "text/html": [
       "<div>\n",
       "<style scoped>\n",
       "    .dataframe tbody tr th:only-of-type {\n",
       "        vertical-align: middle;\n",
       "    }\n",
       "\n",
       "    .dataframe tbody tr th {\n",
       "        vertical-align: top;\n",
       "    }\n",
       "\n",
       "    .dataframe thead th {\n",
       "        text-align: right;\n",
       "    }\n",
       "</style>\n",
       "<table border=\"1\" class=\"dataframe\">\n",
       "  <thead>\n",
       "    <tr style=\"text-align: right;\">\n",
       "      <th></th>\n",
       "      <th>id</th>\n",
       "      <th>name</th>\n",
       "      <th>salary</th>\n",
       "      <th>managerId</th>\n",
       "    </tr>\n",
       "  </thead>\n",
       "  <tbody>\n",
       "    <tr>\n",
       "      <th>0</th>\n",
       "      <td>1</td>\n",
       "      <td>Joe</td>\n",
       "      <td>70000</td>\n",
       "      <td>3.0</td>\n",
       "    </tr>\n",
       "    <tr>\n",
       "      <th>1</th>\n",
       "      <td>2</td>\n",
       "      <td>Henry</td>\n",
       "      <td>80000</td>\n",
       "      <td>4.0</td>\n",
       "    </tr>\n",
       "    <tr>\n",
       "      <th>2</th>\n",
       "      <td>3</td>\n",
       "      <td>Sam</td>\n",
       "      <td>60000</td>\n",
       "      <td>NaN</td>\n",
       "    </tr>\n",
       "    <tr>\n",
       "      <th>3</th>\n",
       "      <td>4</td>\n",
       "      <td>Max</td>\n",
       "      <td>90000</td>\n",
       "      <td>NaN</td>\n",
       "    </tr>\n",
       "  </tbody>\n",
       "</table>\n",
       "</div>"
      ],
      "text/plain": [
       "   id   name  salary  managerId\n",
       "0   1    Joe   70000        3.0\n",
       "1   2  Henry   80000        4.0\n",
       "2   3    Sam   60000        NaN\n",
       "3   4    Max   90000        NaN"
      ]
     },
     "execution_count": 3,
     "metadata": {},
     "output_type": "execute_result"
    }
   ],
   "source": [
    "employee_data = {\n",
    "    'id': [1, 2, 3, 4],\n",
    "    'name': ['Joe', 'Henry', 'Sam', 'Max'],\n",
    "    'salary': [70000, 80000, 60000, 90000],\n",
    "    'managerId': [3, 4, None, None]\n",
    "}\n",
    "\n",
    "employee_df = pd.DataFrame(employee_data)\n",
    "employee_df\n"
   ]
  },
  {
   "cell_type": "code",
   "execution_count": 4,
   "id": "bd73317c",
   "metadata": {},
   "outputs": [],
   "source": [
    "def find_employees(employee: pd.DataFrame) -> pd.DataFrame:\n",
    "    merged = employee.merge(\n",
    "        employee, \n",
    "        left_on='managerId', \n",
    "        right_on='id', \n",
    "        suffixes=('', '_manager')\n",
    "    )\n",
    "    \n",
    "    result = merged[merged['salary'] > merged['salary_manager']]\n",
    "    return result[['name']].rename(columns={'name': 'Employee'})\n",
    "\n"
   ]
  },
  {
   "cell_type": "code",
   "execution_count": 5,
   "id": "c018d8b7",
   "metadata": {},
   "outputs": [
    {
     "name": "stdout",
     "output_type": "stream",
     "text": [
      "Natija (maoshi manageridan katta bo'lgan employeelar):\n"
     ]
    },
    {
     "data": {
      "text/html": [
       "<div>\n",
       "<style scoped>\n",
       "    .dataframe tbody tr th:only-of-type {\n",
       "        vertical-align: middle;\n",
       "    }\n",
       "\n",
       "    .dataframe tbody tr th {\n",
       "        vertical-align: top;\n",
       "    }\n",
       "\n",
       "    .dataframe thead th {\n",
       "        text-align: right;\n",
       "    }\n",
       "</style>\n",
       "<table border=\"1\" class=\"dataframe\">\n",
       "  <thead>\n",
       "    <tr style=\"text-align: right;\">\n",
       "      <th></th>\n",
       "      <th>Employee</th>\n",
       "    </tr>\n",
       "  </thead>\n",
       "  <tbody>\n",
       "    <tr>\n",
       "      <th>0</th>\n",
       "      <td>Joe</td>\n",
       "    </tr>\n",
       "  </tbody>\n",
       "</table>\n",
       "</div>"
      ],
      "text/plain": [
       "  Employee\n",
       "0      Joe"
      ]
     },
     "execution_count": 5,
     "metadata": {},
     "output_type": "execute_result"
    }
   ],
   "source": [
    "result_df = find_employees(employee_df)\n",
    "print(\"Natija (maoshi manageridan katta bo'lgan employeelar):\")\n",
    "result_df"
   ]
  },
  {
   "cell_type": "code",
   "execution_count": null,
   "id": "ab410842",
   "metadata": {},
   "outputs": [],
   "source": []
  }
 ],
 "metadata": {
  "kernelspec": {
   "display_name": "Python 3 (ipykernel)",
   "language": "python",
   "name": "python3"
  },
  "language_info": {
   "codemirror_mode": {
    "name": "ipython",
    "version": 3
   },
   "file_extension": ".py",
   "mimetype": "text/x-python",
   "name": "python",
   "nbconvert_exporter": "python",
   "pygments_lexer": "ipython3",
   "version": "3.8.10"
  }
 },
 "nbformat": 4,
 "nbformat_minor": 5
}
