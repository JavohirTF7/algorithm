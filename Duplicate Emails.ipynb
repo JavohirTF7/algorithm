{
 "cells": [
  {
   "cell_type": "markdown",
   "id": "d84a19b7",
   "metadata": {},
   "source": [
    "## Table: Person\n",
    "\n",
    "| Column Name | Type    |\n",
    "|--------------|---------|\n",
    "| id           | int     |\n",
    "| email        | varchar |\n",
    "\n",
    "- `id` is the **primary key** column (contains unique values).\n",
    "- Each row of this table contains an email.\n",
    "- Emails do not contain uppercase letters.\n",
    "- The `email` field is guaranteed to be **not NULL**.\n",
    "\n",
    "---\n",
    "\n",
    "### Goal:\n",
    "Write a solution to report all **duplicate emails**.\n",
    "\n",
    "---\n",
    "\n",
    "### Example 1\n",
    "\n",
    "**Input:**\n",
    "\n",
    "| id | email   |\n",
    "|----|----------|\n",
    "| 1  | a@b.com  |\n",
    "| 2  | c@d.com  |\n",
    "| 3  | a@b.com  |\n",
    "\n",
    "**Output:**\n",
    "\n",
    "| Email   |\n",
    "|----------|\n",
    "| a@b.com  |\n",
    "\n",
    "**Explanation:**  \n",
    "`a@b.com` is repeated two times.\n",
    "\n"
   ]
  },
  {
   "cell_type": "code",
   "execution_count": 7,
   "id": "53a60409",
   "metadata": {},
   "outputs": [
    {
     "data": {
      "text/html": [
       "<div>\n",
       "<style scoped>\n",
       "    .dataframe tbody tr th:only-of-type {\n",
       "        vertical-align: middle;\n",
       "    }\n",
       "\n",
       "    .dataframe tbody tr th {\n",
       "        vertical-align: top;\n",
       "    }\n",
       "\n",
       "    .dataframe thead th {\n",
       "        text-align: right;\n",
       "    }\n",
       "</style>\n",
       "<table border=\"1\" class=\"dataframe\">\n",
       "  <thead>\n",
       "    <tr style=\"text-align: right;\">\n",
       "      <th></th>\n",
       "      <th>id</th>\n",
       "      <th>email</th>\n",
       "    </tr>\n",
       "  </thead>\n",
       "  <tbody>\n",
       "    <tr>\n",
       "      <th>0</th>\n",
       "      <td>1</td>\n",
       "      <td>a@b.com</td>\n",
       "    </tr>\n",
       "    <tr>\n",
       "      <th>1</th>\n",
       "      <td>2</td>\n",
       "      <td>c@d.com</td>\n",
       "    </tr>\n",
       "    <tr>\n",
       "      <th>2</th>\n",
       "      <td>3</td>\n",
       "      <td>a@b.com</td>\n",
       "    </tr>\n",
       "    <tr>\n",
       "      <th>3</th>\n",
       "      <td>4</td>\n",
       "      <td>e@f.com</td>\n",
       "    </tr>\n",
       "    <tr>\n",
       "      <th>4</th>\n",
       "      <td>5</td>\n",
       "      <td>c@d.com</td>\n",
       "    </tr>\n",
       "  </tbody>\n",
       "</table>\n",
       "</div>"
      ],
      "text/plain": [
       "   id    email\n",
       "0   1  a@b.com\n",
       "1   2  c@d.com\n",
       "2   3  a@b.com\n",
       "3   4  e@f.com\n",
       "4   5  c@d.com"
      ]
     },
     "execution_count": 7,
     "metadata": {},
     "output_type": "execute_result"
    }
   ],
   "source": [
    "import pandas as pd\n",
    "\n",
    "person_data = {\n",
    "    'id': [1, 2, 3, 4, 5],\n",
    "    'email': ['a@b.com', 'c@d.com', 'a@b.com', 'e@f.com', 'c@d.com']\n",
    "}\n",
    "\n",
    "df = pd.DataFrame(person_data)\n",
    "df"
   ]
  },
  {
   "cell_type": "code",
   "execution_count": 4,
   "id": "4df6c092",
   "metadata": {},
   "outputs": [],
   "source": [
    "def duplicate_emails(person: pd.DataFrame) -> pd.DataFrame:\n",
    "    email_counts = person['email'].value_counts()\n",
    "    duplicate_emails = email_counts[email_counts > 1].index\n",
    "    result = pd.DataFrame({'Email': duplicate_emails})\n",
    "    return result"
   ]
  },
  {
   "cell_type": "code",
   "execution_count": 6,
   "id": "582f98b3",
   "metadata": {},
   "outputs": [
    {
     "name": "stdout",
     "output_type": "stream",
     "text": [
      "Duplicate emails:\n",
      "     Email\n",
      "0  a@b.com\n",
      "1  c@d.com\n"
     ]
    }
   ],
   "source": [
    "result_df = duplicate_emails(person_df)\n",
    "print(\"Duplicate emails:\")\n",
    "print(result_df)"
   ]
  },
  {
   "cell_type": "code",
   "execution_count": null,
   "id": "b4fd9159",
   "metadata": {},
   "outputs": [],
   "source": []
  }
 ],
 "metadata": {
  "kernelspec": {
   "display_name": "Python 3 (ipykernel)",
   "language": "python",
   "name": "python3"
  },
  "language_info": {
   "codemirror_mode": {
    "name": "ipython",
    "version": 3
   },
   "file_extension": ".py",
   "mimetype": "text/x-python",
   "name": "python",
   "nbconvert_exporter": "python",
   "pygments_lexer": "ipython3",
   "version": "3.8.10"
  }
 },
 "nbformat": 4,
 "nbformat_minor": 5
}
